{
 "cells": [
  {
   "cell_type": "code",
   "execution_count": 1,
   "metadata": {},
   "outputs": [
    {
     "name": "stdout",
     "output_type": "stream",
     "text": [
      "Hello World\n"
     ]
    }
   ],
   "source": [
    "print('Hello World')"
   ]
  },
  {
   "cell_type": "code",
   "execution_count": 6,
   "metadata": {},
   "outputs": [],
   "source": [
    "import cv2\n",
    "import os"
   ]
  },
  {
   "cell_type": "code",
   "execution_count": 27,
   "metadata": {},
   "outputs": [
    {
     "name": "stdout",
     "output_type": "stream",
     "text": [
      "59.3913\n",
      "59.08989999999999\n",
      "59.081100000000006\n",
      "59.0784\n",
      "59.9429\n",
      "59.86749999999999\n",
      "59.888888888888886\n",
      "59.888888888888886\n",
      "58.6311\n",
      "58.5132\n",
      "58.511799999999994\n",
      "59.508900000000004\n",
      "59.227999999999994\n",
      "59.05555555555556\n",
      "59.06779999999999\n",
      "59.127199999999995\n",
      "59.2406\n",
      "59.17809999999999\n",
      "58.671499999999995\n",
      "58.669000000000004\n",
      "56.416666666666664\n",
      "56.75\n",
      "56.72222222222222\n",
      "56.72222222222222\n",
      "59.345800000000004\n",
      "59.5226\n",
      "59.5058\n",
      "59.4766\n",
      "59.6757\n",
      "59.333333333333336\n",
      "59.174499999999995\n",
      "59.162699999999994\n",
      "59.5781\n",
      "59.851458333333326\n",
      "59.791666666666664\n",
      "59.625\n"
     ]
    }
   ],
   "source": [
    "data_dir_path = './data' # 동영상 폴더명\n",
    "image_dir_path = './images'\n",
    "file_name = 0 # 파일명\n",
    "gap = 1 # 몇 초당 한장 찍을지(단위: 초)\n",
    "\n",
    "for i in os.listdir(data_dir_path):\n",
    "    sec = 0 # 캡쳐할 초\n",
    "    path = data_dir_path + '/' + i\n",
    "    frame = True\n",
    "    cap = cv2.VideoCapture(path)\n",
    "    \n",
    "    frame_count = int(cap.get(cv2.CAP_PROP_FRAME_COUNT))\n",
    "    fps = cap.get(cv2.CAP_PROP_FPS)\n",
    "    max_time = frame_count / fps\n",
    "    \n",
    "    while frame:\n",
    "        cap.set(cv2.CAP_PROP_POS_MSEC, sec*1000)\n",
    "        frame, image = cap.read()\n",
    "        if frame:\n",
    "            cv2.imwrite(f'{image_dir_path}/{file_name}.jpg', image)\n",
    "            file_name = file_name + 1\n",
    "        sec = sec + gap\n",
    "        \n",
    "        if sec > max_time:\n",
    "            break\n",
    "    \n",
    "    cap.release()\n",
    "        "
   ]
  }
 ],
 "metadata": {
  "kernelspec": {
   "display_name": "Python 3",
   "language": "python",
   "name": "python3"
  },
  "language_info": {
   "codemirror_mode": {
    "name": "ipython",
    "version": 3
   },
   "file_extension": ".py",
   "mimetype": "text/x-python",
   "name": "python",
   "nbconvert_exporter": "python",
   "pygments_lexer": "ipython3",
   "version": "3.9.0"
  },
  "orig_nbformat": 4
 },
 "nbformat": 4,
 "nbformat_minor": 2
}
